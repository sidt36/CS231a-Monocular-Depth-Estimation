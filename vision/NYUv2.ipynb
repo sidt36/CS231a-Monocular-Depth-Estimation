{
 "cells": [
  {
   "cell_type": "code",
   "execution_count": 7,
   "id": "89052c89",
   "metadata": {},
   "outputs": [
    {
     "name": "stdout",
     "output_type": "stream",
     "text": [
      "The autoreload extension is already loaded. To reload it, use:\n",
      "  %reload_ext autoreload\n"
     ]
    }
   ],
   "source": [
    "%load_ext autoreload\n",
    "%autoreload 2\n"
   ]
  },
  {
   "cell_type": "code",
   "execution_count": null,
   "id": "315cfadc",
   "metadata": {},
   "outputs": [
    {
     "name": "stderr",
     "output_type": "stream",
     "text": [
      "c:\\Users\\sidt3\\anaconda3\\envs\\cs231a\\lib\\site-packages\\tqdm\\auto.py:21: TqdmWarning: IProgress not found. Please update jupyter and ipywidgets. See https://ipywidgets.readthedocs.io/en/stable/user_install.html\n",
      "  from .autonotebook import tqdm as notebook_tqdm\n"
     ]
    },
    {
     "name": "stdout",
     "output_type": "stream",
     "text": [
      "NYU Depth V2 Dataset Loading and Visualization\n",
      "----------------------------------------------\n",
      "Step 1/4: Loading dataset... (this may take several minutes)\n"
     ]
    },
    {
     "name": "stderr",
     "output_type": "stream",
     "text": [
      "Loading dataset:   0%|          | 0/100 [00:00<?, ?it/s]c:\\Users\\sidt3\\anaconda3\\envs\\cs231a\\lib\\site-packages\\huggingface_hub\\file_download.py:143: UserWarning: `huggingface_hub` cache-system uses symlinks by default to efficiently store duplicated files but your machine does not support them in C:\\Users\\sidt3\\.cache\\huggingface\\hub\\datasets--sayakpaul--nyu_depth_v2. Caching files will still work but in a degraded version that might require more space on your disk. This warning can be disabled by setting the `HF_HUB_DISABLE_SYMLINKS_WARNING` environment variable. For more details, see https://huggingface.co/docs/huggingface_hub/how-to-cache#limitations.\n",
      "To support symlinks on Windows, you either need to activate Developer Mode or to run Python as an administrator. In order to activate developer mode, see this article: https://docs.microsoft.com/en-us/windows/apps/get-started/enable-your-device-for-development\n",
      "  warnings.warn(message)\n"
     ]
    }
   ],
   "source": [
    "from datasets import load_dataset\n",
    "import numpy as np\n",
    "import matplotlib.pyplot as plt\n",
    "from tqdm.auto import tqdm\n",
    "import time\n",
    "import os\n",
    "# Start timing for overall progress tracking\n",
    "start_time = time.time()\n",
    "\n",
    "print(\"NYU Depth V2 Dataset Loading and Visualization\")\n",
    "print(\"----------------------------------------------\")\n",
    "\n",
    "# Progress bar for dataset loading\n",
    "print(\"Step 1/4: Loading dataset... (this may take several minutes)\")\n",
    "loading_bar = tqdm(total=100, desc=\"Loading dataset\", position=0)\n",
    "loading_bar.update(10)  # Show initial progress\n",
    "\n",
    "# Load dataset - we'll break this into steps to show progress\n",
    "try:\n",
    "    # Note that we're loading the dataset without specifying trust_remote_code\n",
    "    # as this seems to be causing issues\n",
    "    ds = load_dataset(\"sayakpaul/nyu_depth_v2\")\n",
    "    loading_bar.update(90)  # Complete the loading progress\n",
    "    loading_bar.close()\n",
    "    print(f\"✓ Dataset loaded successfully with {len(ds['train'])} training examples\")\n",
    "except Exception as e:\n",
    "    loading_bar.close()\n",
    "    print(f\"✗ Error loading dataset: {e}\")\n",
    "    raise e\n",
    "\n",
    "# Setup for visualization\n",
    "print(\"Step 2/4: Setting up visualization functions\")\n",
    "setup_bar = tqdm(total=100, desc=\"Setting up\", position=0)\n",
    "\n",
    "# Define coloring function\n",
    "cmap = plt.cm.viridis\n",
    "def colored_depthmap(depth, d_min=None, d_max=None):\n",
    "    if d_min is None:\n",
    "        d_min = np.min(depth)\n",
    "    if d_max is None:\n",
    "        d_max = np.max(depth)\n",
    "    depth_relative = (depth - d_min) / (d_max - d_min)\n",
    "    return 255 * cmap(depth_relative)[:,:,:3] # H, W, C\n",
    "\n",
    "def merge_into_row(input, depth_target):\n",
    "    input = np.array(input)\n",
    "    depth_target = np.squeeze(np.array(depth_target))\n",
    "    d_min = np.min(depth_target)\n",
    "    d_max = np.max(depth_target)\n",
    "    depth_target_col = colored_depthmap(depth_target, d_min, d_max)\n",
    "    img_merge = np.hstack([input, depth_target_col])\n",
    "    return img_merge\n",
    "\n",
    "setup_bar.update(100)\n",
    "setup_bar.close()\n",
    "\n",
    "# Sample selection\n",
    "print(\"Step 3/4: Selecting random samples\")\n",
    "selection_bar = tqdm(total=100, desc=\"Selecting samples\", position=0) \n",
    "random_indices = np.random.choice(len(ds[\"train\"]), 9).tolist()\n",
    "train_set = ds[\"train\"]\n",
    "selection_bar.update(100)\n",
    "selection_bar.close()\n",
    "\n",
    "# Visualization with progress bar\n",
    "print(\"Step 4/4: Generating visualizations\")\n",
    "plt.figure(figsize=(15, 6))\n",
    "visualization_bar = tqdm(total=9, desc=\"Processing images\", position=0)\n",
    "\n",
    "for i, idx in enumerate(random_indices):\n",
    "    ax = plt.subplot(3, 3, i + 1)\n",
    "    image_viz = merge_into_row(\n",
    "        train_set[idx][\"image\"], train_set[idx][\"depth_map\"]\n",
    "    )\n",
    "    plt.imshow(image_viz.astype(\"uint8\"))\n",
    "    plt.axis(\"off\")\n",
    "    visualization_bar.update(1)  # Update progress for each image\n",
    "\n",
    "visualization_bar.close()\n",
    "\n",
    "# Save and show results\n",
    "plt.tight_layout()\n",
    "plt.savefig(\"nyu_depth_samples.png\")\n",
    "total_time = time.time() - start_time\n",
    "print(f\"\\nCompleted in {total_time:.2f} seconds\")\n",
    "print(f\"Visualization saved to: {os.path.abspath('nyu_depth_samples.png')}\")\n",
    "plt.show()"
   ]
  }
 ],
 "metadata": {
  "kernelspec": {
   "display_name": "cs231a",
   "language": "python",
   "name": "python3"
  },
  "language_info": {
   "codemirror_mode": {
    "name": "ipython",
    "version": 3
   },
   "file_extension": ".py",
   "mimetype": "text/x-python",
   "name": "python",
   "nbconvert_exporter": "python",
   "pygments_lexer": "ipython3",
   "version": "3.9.22"
  }
 },
 "nbformat": 4,
 "nbformat_minor": 5
}
